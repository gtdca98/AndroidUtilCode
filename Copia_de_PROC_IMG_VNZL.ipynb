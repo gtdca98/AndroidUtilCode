{
  "nbformat": 4,
  "nbformat_minor": 0,
  "metadata": {
    "colab": {
      "provenance": [],
      "authorship_tag": "ABX9TyOfswTB+qe2MSEoqeFBxPBW",
      "include_colab_link": true
    },
    "kernelspec": {
      "name": "python3",
      "display_name": "Python 3"
    },
    "language_info": {
      "name": "python"
    }
  },
  "cells": [
    {
      "cell_type": "markdown",
      "metadata": {
        "id": "view-in-github",
        "colab_type": "text"
      },
      "source": [
        "<a href=\"https://colab.research.google.com/github/gtdca98/AndroidUtilCode/blob/master/Copia_de_PROC_IMG_VNZL.ipynb\" target=\"_parent\"><img src=\"https://colab.research.google.com/assets/colab-badge.svg\" alt=\"Open In Colab\"/></a>"
      ]
    },
    {
      "cell_type": "code",
      "execution_count": null,
      "metadata": {
        "id": "pAFwuW9MbZ9i"
      },
      "outputs": [],
      "source": [
        "!pip install qreader\n",
        "!sudo apt-get install libzbar0"
      ]
    },
    {
      "cell_type": "code",
      "source": [
        "from qreader import QReader\n",
        "import cv2"
      ],
      "metadata": {
        "id": "BBCZTPocbcTW"
      },
      "execution_count": null,
      "outputs": []
    },
    {
      "cell_type": "code",
      "source": [
        "from google.colab import drive\n",
        "drive.mount('/content/drive')"
      ],
      "metadata": {
        "id": "AOfchHFGbfZK"
      },
      "execution_count": null,
      "outputs": []
    },
    {
      "cell_type": "code",
      "source": [
        "import os\n",
        "import pandas as pd"
      ],
      "metadata": {
        "id": "_ZaH8q7nblHu"
      },
      "execution_count": null,
      "outputs": []
    },
    {
      "cell_type": "code",
      "source": [
        "df1 = pd.DataFrame({'Imagen': ['fake'], 'Datos': ['(none)']})\n",
        "ListaIMGS=os.listdir('/content/drive/MyDrive/MESAS/')\n",
        "consec=0\n",
        "\n",
        "for sIMG in ListaIMGS:\n",
        "  NomImg= '/content/drive/MyDrive/MESAS/' + sIMG\n",
        "  print(NomImg)\n",
        "  detector = QReader()\n",
        "  img = cv2.cvtColor(cv2.imread(NomImg), cv2.COLOR_BGR2RGB)\n",
        "  QRs = detector.detect_and_decode(image=img, return_detections=True)\n",
        "  lectura='vacio'\n",
        "  if len(QRs[0]) !=0:\n",
        "    try:\n",
        "      lectura=(list(QRs[0])[0].replace('.', ',')).replace('!', ',')\n",
        "    except:\n",
        "      print(\"error\")\n",
        "  dfline = pd.DataFrame({'Imagen': sIMG, 'Datos': [lectura]})\n",
        "  df1= pd.concat([df1,dfline])\n",
        "  consec=consec+1\n",
        "  display(consec)\n",
        "  if consec % 1000 == 0:\n",
        "      filnamout = '/content/drive/MyDrive/MESAS/RES_'+str(consec)+'_datos.csv'\n",
        "      df1.to_csv(sep=\"|\",path_or_buf=filnamout)\n",
        "df1.to_csv(sep=\"|\",path_or_buf='/content/drive/MyDrive/MESAS/RES_LST_datos.csv')"
      ],
      "metadata": {
        "id": "U29b8PLWbiT8"
      },
      "execution_count": null,
      "outputs": []
    }
  ]
}